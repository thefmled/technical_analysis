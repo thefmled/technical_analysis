{
 "cells": [
  {
   "cell_type": "code",
   "execution_count": 1,
   "metadata": {},
   "outputs": [],
   "source": [
    "import pandas as pd\n",
    "#df = pd.read_csv('BSE.NS.csv', index_col=0)"
   ]
  },
  {
   "cell_type": "code",
   "execution_count": 2,
   "metadata": {},
   "outputs": [
    {
     "name": "stdout",
     "output_type": "stream",
     "text": [
      "[*********************100%***********************]  1 of 1 completed\n"
     ]
    },
    {
     "data": {
      "text/html": [
       "<div>\n",
       "<style scoped>\n",
       "    .dataframe tbody tr th:only-of-type {\n",
       "        vertical-align: middle;\n",
       "    }\n",
       "\n",
       "    .dataframe tbody tr th {\n",
       "        vertical-align: top;\n",
       "    }\n",
       "\n",
       "    .dataframe thead th {\n",
       "        text-align: right;\n",
       "    }\n",
       "</style>\n",
       "<table border=\"1\" class=\"dataframe\">\n",
       "  <thead>\n",
       "    <tr style=\"text-align: right;\">\n",
       "      <th></th>\n",
       "      <th>Open</th>\n",
       "      <th>High</th>\n",
       "      <th>Low</th>\n",
       "      <th>Close</th>\n",
       "      <th>Adj Close</th>\n",
       "      <th>Volume</th>\n",
       "    </tr>\n",
       "    <tr>\n",
       "      <th>Datetime</th>\n",
       "      <th></th>\n",
       "      <th></th>\n",
       "      <th></th>\n",
       "      <th></th>\n",
       "      <th></th>\n",
       "      <th></th>\n",
       "    </tr>\n",
       "  </thead>\n",
       "  <tbody>\n",
       "    <tr>\n",
       "      <th>2021-03-05 09:15:00+05:30</th>\n",
       "      <td>2160.100098</td>\n",
       "      <td>2165.000000</td>\n",
       "      <td>2155.000000</td>\n",
       "      <td>2161.800049</td>\n",
       "      <td>2161.800049</td>\n",
       "      <td>0</td>\n",
       "    </tr>\n",
       "    <tr>\n",
       "      <th>2021-03-05 09:16:00+05:30</th>\n",
       "      <td>2161.199951</td>\n",
       "      <td>2165.850098</td>\n",
       "      <td>2158.699951</td>\n",
       "      <td>2163.550049</td>\n",
       "      <td>2163.550049</td>\n",
       "      <td>4411</td>\n",
       "    </tr>\n",
       "    <tr>\n",
       "      <th>2021-03-05 09:17:00+05:30</th>\n",
       "      <td>2163.550049</td>\n",
       "      <td>2167.899902</td>\n",
       "      <td>2161.600098</td>\n",
       "      <td>2166.000000</td>\n",
       "      <td>2166.000000</td>\n",
       "      <td>4837</td>\n",
       "    </tr>\n",
       "    <tr>\n",
       "      <th>2021-03-05 09:18:00+05:30</th>\n",
       "      <td>2166.000000</td>\n",
       "      <td>2173.899902</td>\n",
       "      <td>2164.750000</td>\n",
       "      <td>2173.899902</td>\n",
       "      <td>2173.899902</td>\n",
       "      <td>3894</td>\n",
       "    </tr>\n",
       "    <tr>\n",
       "      <th>2021-03-05 09:19:00+05:30</th>\n",
       "      <td>2174.500000</td>\n",
       "      <td>2176.750000</td>\n",
       "      <td>2171.050049</td>\n",
       "      <td>2176.750000</td>\n",
       "      <td>2176.750000</td>\n",
       "      <td>3298</td>\n",
       "    </tr>\n",
       "    <tr>\n",
       "      <th>...</th>\n",
       "      <td>...</td>\n",
       "      <td>...</td>\n",
       "      <td>...</td>\n",
       "      <td>...</td>\n",
       "      <td>...</td>\n",
       "      <td>...</td>\n",
       "    </tr>\n",
       "    <tr>\n",
       "      <th>2021-03-05 10:35:00+05:30</th>\n",
       "      <td>2201.800049</td>\n",
       "      <td>2202.550049</td>\n",
       "      <td>2199.500000</td>\n",
       "      <td>2202.550049</td>\n",
       "      <td>2202.550049</td>\n",
       "      <td>1102</td>\n",
       "    </tr>\n",
       "    <tr>\n",
       "      <th>2021-03-05 10:36:00+05:30</th>\n",
       "      <td>2203.000000</td>\n",
       "      <td>2204.000000</td>\n",
       "      <td>2201.000000</td>\n",
       "      <td>2201.050049</td>\n",
       "      <td>2201.050049</td>\n",
       "      <td>415</td>\n",
       "    </tr>\n",
       "    <tr>\n",
       "      <th>2021-03-05 10:37:00+05:30</th>\n",
       "      <td>2200.449951</td>\n",
       "      <td>2201.000000</td>\n",
       "      <td>2197.550049</td>\n",
       "      <td>2200.149902</td>\n",
       "      <td>2200.149902</td>\n",
       "      <td>1074</td>\n",
       "    </tr>\n",
       "    <tr>\n",
       "      <th>2021-03-05 10:38:00+05:30</th>\n",
       "      <td>2200.149902</td>\n",
       "      <td>2200.149902</td>\n",
       "      <td>2198.149902</td>\n",
       "      <td>2200.000000</td>\n",
       "      <td>2200.000000</td>\n",
       "      <td>360</td>\n",
       "    </tr>\n",
       "    <tr>\n",
       "      <th>2021-03-05 10:39:48+05:30</th>\n",
       "      <td>2198.000000</td>\n",
       "      <td>2198.000000</td>\n",
       "      <td>2198.000000</td>\n",
       "      <td>2198.000000</td>\n",
       "      <td>2198.000000</td>\n",
       "      <td>0</td>\n",
       "    </tr>\n",
       "  </tbody>\n",
       "</table>\n",
       "<p>85 rows × 6 columns</p>\n",
       "</div>"
      ],
      "text/plain": [
       "                                  Open         High          Low        Close  \\\n",
       "Datetime                                                                        \n",
       "2021-03-05 09:15:00+05:30  2160.100098  2165.000000  2155.000000  2161.800049   \n",
       "2021-03-05 09:16:00+05:30  2161.199951  2165.850098  2158.699951  2163.550049   \n",
       "2021-03-05 09:17:00+05:30  2163.550049  2167.899902  2161.600098  2166.000000   \n",
       "2021-03-05 09:18:00+05:30  2166.000000  2173.899902  2164.750000  2173.899902   \n",
       "2021-03-05 09:19:00+05:30  2174.500000  2176.750000  2171.050049  2176.750000   \n",
       "...                                ...          ...          ...          ...   \n",
       "2021-03-05 10:35:00+05:30  2201.800049  2202.550049  2199.500000  2202.550049   \n",
       "2021-03-05 10:36:00+05:30  2203.000000  2204.000000  2201.000000  2201.050049   \n",
       "2021-03-05 10:37:00+05:30  2200.449951  2201.000000  2197.550049  2200.149902   \n",
       "2021-03-05 10:38:00+05:30  2200.149902  2200.149902  2198.149902  2200.000000   \n",
       "2021-03-05 10:39:48+05:30  2198.000000  2198.000000  2198.000000  2198.000000   \n",
       "\n",
       "                             Adj Close  Volume  \n",
       "Datetime                                        \n",
       "2021-03-05 09:15:00+05:30  2161.800049       0  \n",
       "2021-03-05 09:16:00+05:30  2163.550049    4411  \n",
       "2021-03-05 09:17:00+05:30  2166.000000    4837  \n",
       "2021-03-05 09:18:00+05:30  2173.899902    3894  \n",
       "2021-03-05 09:19:00+05:30  2176.750000    3298  \n",
       "...                                ...     ...  \n",
       "2021-03-05 10:35:00+05:30  2202.550049    1102  \n",
       "2021-03-05 10:36:00+05:30  2201.050049     415  \n",
       "2021-03-05 10:37:00+05:30  2200.149902    1074  \n",
       "2021-03-05 10:38:00+05:30  2200.000000     360  \n",
       "2021-03-05 10:39:48+05:30  2198.000000       0  \n",
       "\n",
       "[85 rows x 6 columns]"
      ]
     },
     "execution_count": 2,
     "metadata": {},
     "output_type": "execute_result"
    }
   ],
   "source": [
    "import yfinance as yf\n",
    "df = yf.download(\"RELIANCE.BO\", period = \"1d\", interval = \"1m\")\n",
    "df"
   ]
  },
  {
   "cell_type": "code",
   "execution_count": 3,
   "metadata": {},
   "outputs": [],
   "source": [
    "import matplotlib.pyplot as plt\n",
    "import numpy as np\n",
    "import math\n",
    "open_orig = df['Open'].tolist()\n",
    "close_orig = df['Close'].tolist()\n",
    "adj_close_orig = df['Adj Close'].tolist()\n",
    "volume_orig = df['Volume'].tolist()\n",
    "high_orig = df['High'].tolist()\n",
    "low_orig = df['Low'].tolist()\n",
    "work_list_for_sup = open_orig\n",
    "work_list_for_res = adj_close_orig\n",
    "work_ar_sup = np.array(work_list_for_sup)\n",
    "work_ar_res = np.array(work_list_for_res)\n",
    "work_mean_sup = np.nanmean(work_ar_sup, dtype=np.float32)\n",
    "work_mean_res = np.nanmean(work_ar_res, dtype=np.float32)\n",
    "orig_upper = []\n",
    "orig_lower = []\n",
    "for price in work_list_for_sup:\n",
    "    if np.isnan(price):\n",
    "        continue\n",
    "    elif price<work_mean_sup:\n",
    "        orig_lower.append(price)\n",
    "for price in work_list_for_res:\n",
    "    if np.isnan(price):\n",
    "        continue\n",
    "    elif price>work_mean_res:\n",
    "        orig_upper.append(price)\n",
    "resistance_store = []\n",
    "support_store = []\n",
    "resistance_store.append(work_mean_res)\n",
    "support_store.append(work_mean_sup)"
   ]
  },
  {
   "cell_type": "code",
   "execution_count": 4,
   "metadata": {},
   "outputs": [
    {
     "data": {
      "text/plain": [
       "[2188.9583, 2197.986, 2202.8381, 2206.02, 2208.3499]"
      ]
     },
     "execution_count": 4,
     "metadata": {},
     "output_type": "execute_result"
    }
   ],
   "source": [
    "def res_recursive(upper_list, resistance_store):\n",
    "    new = []\n",
    "    if len(upper_list)==1:\n",
    "        flag = 1\n",
    "    else:\n",
    "        flag = 0\n",
    "    if flag == 1:\n",
    "        return resistance_store\n",
    "    else:\n",
    "        mean = np.mean(upper_list, dtype=np.float32)\n",
    "        resistance_store.append(mean)\n",
    "        for price in upper_list:\n",
    "            if np.isnan(price):\n",
    "                continue\n",
    "            elif price>mean:\n",
    "                new.append(price)\n",
    "        return res_recursive(new, resistance_store)\n",
    "resistance_store = res_recursive(orig_upper, resistance_store)\n",
    "resistance_store"
   ]
  },
  {
   "cell_type": "code",
   "execution_count": 5,
   "metadata": {},
   "outputs": [
    {
     "data": {
      "text/plain": [
       "[2188.5042, 2178.899, 2171.2466, 2165.6785, 2161.6165, 2160.65]"
      ]
     },
     "execution_count": 5,
     "metadata": {},
     "output_type": "execute_result"
    }
   ],
   "source": [
    "def sup_recursive(lower_list, support_store):\n",
    "    new = []\n",
    "    if len(lower_list)==1:\n",
    "        flag = 1\n",
    "    else:\n",
    "        flag = 0\n",
    "    if flag == 1:\n",
    "        return support_store\n",
    "    else:\n",
    "        mean = np.mean(lower_list, dtype=np.float32)\n",
    "        support_store.append(mean)\n",
    "        for price in lower_list:\n",
    "            if np.isnan(price):\n",
    "                continue\n",
    "            elif price<mean:\n",
    "                new.append(price)\n",
    "        return sup_recursive(new, support_store)\n",
    "support_store = sup_recursive(orig_lower, support_store)\n",
    "support_store"
   ]
  },
  {
   "cell_type": "code",
   "execution_count": 9,
   "metadata": {},
   "outputs": [
    {
     "name": "stdout",
     "output_type": "stream",
     "text": [
      "Results without filtering the lines which do not have turning points\n"
     ]
    },
    {
     "data": {
      "image/png": "[encoded data removed]",
      "text/plain": [
       "<Figure size 432x288 with 1 Axes>"
      ]
     },
     "metadata": {
      "needs_background": "light"
     },
     "output_type": "display_data"
    }
   ],
   "source": [
    "x = df.index.tolist()\n",
    "plot_data = []\n",
    "plot_data=0.9*np.array(adj_close_orig)+0.1*np.array(open_orig)\n",
    "def plotting(resistance_store, support_store, n, tolerance):  \n",
    "    plt.plot(x, plot_data)\n",
    "    for price in resistance_store[:n]:\n",
    "        y = []\n",
    "        for i in range(len(x)):\n",
    "            y.append(price)\n",
    "        plt.plot(x,y)\n",
    "        for res in y:\n",
    "            plt.axhspan(res-tolerance, res+tolerance, color='yellow', alpha=0.5)\n",
    "    for price in support_store[:n]:\n",
    "        y = []\n",
    "        for i in range(len(x)):\n",
    "            y.append(price)\n",
    "        plt.plot(x,y)\n",
    "        for sup in y:\n",
    "            plt.axhspan(sup-tolerance, sup+tolerance, color='pink', alpha=0.5)\n",
    "    plt.show()\n",
    "    return None\n",
    "print('Results without filtering the lines which do not have turning points')\n",
    "plotting(resistance_store, support_store, 6, 2)"
   ]
  },
  {
   "cell_type": "code",
   "execution_count": 23,
   "metadata": {},
   "outputs": [
    {
     "name": "stdout",
     "output_type": "stream",
     "text": [
      "Results after filtering only the lines which have turning points in vicinity\n"
     ]
    },
    {
     "data": {
      "image/png": "[encoded data removed]",
      "text/plain": [
       "<Figure size 432x288 with 1 Axes>"
      ]
     },
     "metadata": {
      "needs_background": "light"
     },
     "output_type": "display_data"
    }
   ],
   "source": [
    "def check_for_res_turns(res, tolerance, approved_res):\n",
    "    res_df = df[df['Adj Close']>=(res-tolerance)]\n",
    "    res_df = res_df[res_df['Adj Close']<=(res+tolerance)]\n",
    "    work_ar = []\n",
    "    work_ar = np.array(res_df['Adj Close'])\n",
    "    for i in range(1,len(work_ar)):\n",
    "        temp_diff = work_ar[i] - work_ar[i-1]\n",
    "        check_diff = work_ar[i+1] - work_ar[i]\n",
    "        if temp_diff*check_diff<0:\n",
    "            approved_res.append(res)\n",
    "            break\n",
    "    return approved_res\n",
    "\n",
    "def check_for_sup_turns(sup, tolerance, approved_sup):\n",
    "    sup_df = df[df['Open']>=(sup-tolerance)]\n",
    "    sup_df = sup_df[sup_df['Open']<=(sup+tolerance)]\n",
    "    work_ar = []\n",
    "    work_ar = np.array(sup_df['Open'])\n",
    "    for i in range(1,len(work_ar)-1):\n",
    "        temp_diff = work_ar[i] - work_ar[i-1]\n",
    "        check_diff = work_ar[i+1] - work_ar[i]\n",
    "        if temp_diff*check_diff<0:\n",
    "            approved_sup.append(sup)\n",
    "            break\n",
    "    return approved_sup\n",
    "\n",
    "approved_res = []\n",
    "approved_sup = []\n",
    "for res in resistance_store:\n",
    "    approved_res = check_for_res_turns(res, 3, approved_res)\n",
    "for sup in support_store:\n",
    "    approved_sup = check_for_sup_turns(sup, 3, approved_sup)\n",
    "\n",
    "print('Results after filtering only the lines which have turning points in vicinity')\n",
    "plotting(approved_res, approved_sup, 8, 2)"
   ]
  }
 ],
 "metadata": {
  "kernelspec": {
   "display_name": "Python 3",
   "language": "python",
   "name": "python3"
  },
  "language_info": {
   "codemirror_mode": {
    "name": "ipython",
    "version": 3
   },
   "file_extension": ".py",
   "mimetype": "text/x-python",
   "name": "python",
   "nbconvert_exporter": "python",
   "pygments_lexer": "ipython3",
   "version": "3.8.3"
  }
 },
 "nbformat": 4,
 "nbformat_minor": 4
}
